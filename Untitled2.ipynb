{
  "nbformat": 4,
  "nbformat_minor": 0,
  "metadata": {
    "colab": {
      "name": "Untitled2.ipynb",
      "provenance": []
    },
    "kernelspec": {
      "name": "python3",
      "display_name": "Python 3"
    }
  },
  "cells": [
    {
      "cell_type": "code",
      "metadata": {
        "id": "JZMkaQfp-MI_",
        "colab_type": "code",
        "colab": {
          "base_uri": "https://localhost:8080/",
          "height": 207
        },
        "outputId": "3b139486-87b5-468d-d5c4-b34d78e2412b"
      },
      "source": [
        "import numpy as np\n",
        "import array as arr\n",
        "one = np.array([[1,2,3,4],[2,1,4,3],[3,4,1,2],[4,3,2,1]])\n",
        "\n",
        "two =np.array([[2,2,2,2],[2,3,2,3],[2,2,2,3],[2,2,2,2]])\n",
        "\n",
        "three=np.array([[2,1,3],[1,3,2],[1,2,3]])\n",
        "\n",
        "s1= np.zeros(3)\n",
        "s2= np.zeros(3)\n",
        "s3= np.zeros(3)\n",
        "r1=0\n",
        "c1=0\n",
        "r2=0\n",
        "r3=0\n",
        "c2=0\n",
        "c3=0\n",
        "for i in range (0 , 3):\n",
        "  for j in range(0 ,3):\n",
        "    d=one.diagonal() \n",
        "    d1=sum(d)\n",
        "    if(one[i][j]==one[i][j+1]):\n",
        "      r1 += 1\n",
        "print(d1)       \n",
        "print(r1)\n",
        "print(c1)\n",
        "\n",
        "print(\"two\")\n",
        "for i in range (0 , 3):\n",
        "  for j in range(0 ,2):\n",
        "    d=two.diagonal() \n",
        "    d2=sum(d)\n",
        "    k=j+1\n",
        "    if(two[i][j]==two[i][k]):\n",
        "      r2 += 1\n",
        "    k=i+1 \n",
        "\n",
        "twot=two.transpose()\n",
        "for i in range (0 , 3):\n",
        "  for j in range(0 ,2):\n",
        "    k=j+1\n",
        "    if(twot[i][j]==twot[i][k]):\n",
        "      c2 += 1\n",
        "      \n",
        "print(d2)     \n",
        "print(r2)\n",
        "print(c2)\n",
        "\n",
        "print(\"three\")\n",
        "for i in range (0 , 2):\n",
        "  for j in range(0 ,2):\n",
        "    d=three.diagonal() \n",
        "    d3=sum(d)\n",
        "    k=j+1\n",
        "    if(three[i][j]==three[i][k]):\n",
        "      r3 += 1\n",
        "threet=three.transpose()\n",
        "for i in range (0 , 2):\n",
        "  for j in range(0 ,2):\n",
        "    k=j+1\n",
        "    if(threet[i][j]==threet[i][k]):\n",
        "      c3 += 1\n",
        "    \n",
        "print(d3)       \n",
        "print(r3)\n",
        "print(c3)\n",
        "        \n",
        "      \n",
        "        \n"
      ],
      "execution_count": 61,
      "outputs": [
        {
          "output_type": "stream",
          "text": [
            "4\n",
            "0\n",
            "0\n",
            "two\n",
            "9\n",
            "4\n",
            "4\n",
            "three\n",
            "8\n",
            "0\n",
            "1\n"
          ],
          "name": "stdout"
        }
      ]
    },
    {
      "cell_type": "code",
      "metadata": {
        "id": "W8LuKmtpBTJn",
        "colab_type": "code",
        "colab": {}
      },
      "source": [
        ""
      ],
      "execution_count": 0,
      "outputs": []
    }
  ]
}